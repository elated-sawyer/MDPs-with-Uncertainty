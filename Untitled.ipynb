{
 "cells": [
  {
   "cell_type": "markdown",
   "metadata": {},
   "source": [
    "# Robust Satisficing MDPs\n",
    "\n",
    "## Experiments Files\n",
    "**main.py**: conduct experiments on [Improvements on Percentile], save the estimated transition kernels in \"Sampling\", the results in \"EXP_Results\". <br>\n",
    "**ResultsPlots.ipynb**: plot the results obtained from \"main\" file.<br>\n",
    "**EXP2.py**: conduct experiments on [Target-oriented feature], plot the results, and save the plot in \"Figure\".<br>\n",
    "*“Backup” section in different files*: has no relationship with the current version of the work, should be skipped.<br>\n",
    "\n",
    "## Function Files\n",
    "**MOD.py**: Optimization models: Dual MDP; RSMDP.<br>\n",
    "**AGENT.py**: make agent take actions according to different requests (e.g., sampling, test policy).<br>\n",
    "**ENV.py**: experimental environments, including ENV_GW, ENV_MR, ENV_RiSw.<br>\n",
    "**VI.py**: dynamic programming methods, including value iteration, robust value iteration(RMDP).<br>\n",
    "**SAMpling.py**: estimate transition matrix under different purposes.<br>\n",
    "*“Backup” section in different files*: has no relationship with the current version of the work, should be skipped.<br>\n",
    "\n",
    "## Data\n",
    "**EXP_Results_...**: experimental results in [Improvements on Percentile]<br>\n",
    ">TM-O: estimate transition kernels without prior knowledge[MR,RiSw]; TM-M: estimate transition kernels with prior knowledge[GW]<br>\n",
    "L1: L1-norm<br>\n",
    "EVA-5000: test size 5000<br>\n",
    "MSK: Mosek solver\n",
    "\n",
    "**Sampling_...**: estimated transition kernels in [Improvements on Percentile]<br>\n",
    "**TOF_GenMat**: generated transition kernels in [Target-oriented feature]<br>\n",
    "**Figure**: results plots in [Improvements on Percentile] and [Target-oriented feature]<br>\n",
    "**Table**: experimental results in [Target-oriented feature].\n"
   ]
  },
  {
   "cell_type": "code",
   "execution_count": null,
   "metadata": {},
   "outputs": [],
   "source": []
  }
 ],
 "metadata": {
  "kernelspec": {
   "display_name": "Python 3",
   "language": "python",
   "name": "python3"
  },
  "language_info": {
   "codemirror_mode": {
    "name": "ipython",
    "version": 3
   },
   "file_extension": ".py",
   "mimetype": "text/x-python",
   "name": "python",
   "nbconvert_exporter": "python",
   "pygments_lexer": "ipython3",
   "version": "3.6.4"
  },
  "toc": {
   "base_numbering": 1,
   "nav_menu": {},
   "number_sections": true,
   "sideBar": true,
   "skip_h1_title": false,
   "title_cell": "Table of Contents",
   "title_sidebar": "Contents",
   "toc_cell": false,
   "toc_position": {},
   "toc_section_display": true,
   "toc_window_display": false
  }
 },
 "nbformat": 4,
 "nbformat_minor": 2
}
